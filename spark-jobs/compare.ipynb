{
 "cells": [
  {
   "cell_type": "code",
   "execution_count": 2,
   "id": "5e6e350a",
   "metadata": {},
   "outputs": [
    {
     "name": "stdout",
     "output_type": "stream",
     "text": [
      "Tổng _id trong file 1: 238\n",
      "_id có mặt trong file 2: 238 (100.00%)\n",
      "_id mà users giống hệt: 209/238 (87.82%)\n",
      "_id có ở cả 2 nhưng users khác nhau (ví dụ 10 đầu): [1759451393430, 1759453493430, 1759455593430, 1759456853430, 1759459793430, 1759461893430, 1759470293430, 1759472393430, 1759474493430, 1759480793430]\n"
     ]
    }
   ],
   "source": [
    "import json\n",
    "import sys\n",
    "from typing import Dict, List, Tuple\n",
    "\n",
    "def load_snapshots(path: str) -> Dict[int, List[dict]]:\n",
    "    with open(path, \"r\", encoding=\"utf-8\") as f:\n",
    "        data = json.load(f)  # expects a list of {\"_id\": ..., \"users\": [...]}\n",
    "    by_id = {}\n",
    "    for item in data:\n",
    "        _id = item[\"_id\"]\n",
    "        users = item.get(\"users\", [])\n",
    "        by_id[_id] = users\n",
    "    return by_id\n",
    "\n",
    "def normalize_users(users: List[dict]) -> List[Tuple[str, int, int]]:\n",
    "    # Convert to sortable, order-insensitive structure\n",
    "    # Assumes each user has userId (str), score (int), lastUpdateTime (int)\n",
    "    norm = []\n",
    "    for u in users:\n",
    "        norm.append((\n",
    "            str(u.get(\"userId\")),\n",
    "            int(u.get(\"score\", 0)),\n",
    "            int(u.get(\"lastUpdateTime\", 0)),\n",
    "        ))\n",
    "    # Sort for deterministic comparison\n",
    "    norm.sort()\n",
    "    return norm\n",
    "\n",
    "def main(file1: str, file2: str):\n",
    "    snapshots1 = load_snapshots(file1)\n",
    "    snapshots2 = load_snapshots(file2)\n",
    "\n",
    "    total_ids = len(snapshots1)\n",
    "    if total_ids == 0:\n",
    "        print(\"File 1 không có _id nào. Tỉ lệ trùng: 0.00%\")\n",
    "        return\n",
    "\n",
    "    matched_equal = 0\n",
    "    matched_ids = 0\n",
    "    missing_in_file2 = []\n",
    "    different_users = []\n",
    "\n",
    "    for _id, users1 in snapshots1.items():\n",
    "        if _id not in snapshots2:\n",
    "            missing_in_file2.append(_id)\n",
    "            continue\n",
    "\n",
    "        matched_ids += 1\n",
    "        users2 = snapshots2[_id]\n",
    "        if normalize_users(users1) == normalize_users(users2):\n",
    "            matched_equal += 1\n",
    "        else:\n",
    "            different_users.append(_id)\n",
    "\n",
    "    percent_equal = matched_equal / total_ids * 100.0\n",
    "    percent_id_overlap = matched_ids / total_ids * 100.0\n",
    "\n",
    "    print(f\"Tổng _id trong file 1: {total_ids}\")\n",
    "    print(f\"_id có mặt trong file 2: {matched_ids} ({percent_id_overlap:.2f}%)\")\n",
    "    print(f\"_id mà users giống hệt: {matched_equal}/{total_ids} ({percent_equal:.2f}%)\")\n",
    "\n",
    "    if missing_in_file2:\n",
    "        print(f\"_id có trong file 1 nhưng thiếu ở file 2 (ví dụ 10 đầu): {missing_in_file2[:10]}\")\n",
    "    if different_users:\n",
    "        print(f\"_id có ở cả 2 nhưng users khác nhau (ví dụ 10 đầu): {different_users[:10]}\")\n",
    "\n",
    "# Để chạy trực tiếp trong notebook, gán đường dẫn file ở đây:\n",
    "file1 = \"leaderboard_snapshots/raw_snapshots.json\"\n",
    "file2 = \"leaderboard_snapshots/top_level_gainers_snapshots.json\"  # Thay bằng file bạn muốn so sánh\n",
    "\n",
    "main(file1, file2)"
   ]
  }
 ],
 "metadata": {
  "kernelspec": {
   "display_name": "Python 3",
   "language": "python",
   "name": "python3"
  },
  "language_info": {
   "codemirror_mode": {
    "name": "ipython",
    "version": 3
   },
   "file_extension": ".py",
   "mimetype": "text/x-python",
   "name": "python",
   "nbconvert_exporter": "python",
   "pygments_lexer": "ipython3",
   "version": "3.10.0"
  }
 },
 "nbformat": 4,
 "nbformat_minor": 5
}
