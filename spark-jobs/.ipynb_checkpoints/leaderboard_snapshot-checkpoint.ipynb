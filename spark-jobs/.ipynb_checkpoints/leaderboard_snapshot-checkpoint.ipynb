{
 "cells": [
  {
   "cell_type": "markdown",
   "metadata": {},
   "source": [
    "# PySpark Leaderboard Snapshot\n",
    "\n",
    "Notebook này chạy PySpark ở local mode để gen snapshot leaderboard data từ parquet file.\n",
    "\n",
    "## Pipeline:\n",
    "1. Đọc data từ Parquet file\n",
    "2. Transform thành Score objects với event time\n",
    "3. Tính tổng điểm trong sliding window (1 phút gần nhất)\n",
    "4. Clean up các user có submisstion time < cleanuptime-5 phút, clean up lần đầu tiên vào phút thứ 10 và trigger mỗi 5 phút\n",
    "5. Snapshot TopN mỗi 7 phút theo event time\n"
   ]
  },
  {
   "cell_type": "code",
   "execution_count": 1,
   "metadata": {},
   "outputs": [
    {
     "name": "stdout",
     "output_type": "stream",
     "text": [
      "Libraries imported successfully!\n"
     ]
    }
   ],
   "source": [
    "# Import required libraries\n",
    "import os\n",
    "import sys\n",
    "from datetime import datetime, timezone\n",
    "from typing import List, Dict, Any, Optional, Tuple\n",
    "from dataclasses import dataclass\n",
    "from collections import defaultdict, deque\n",
    "import math\n",
    "\n",
    "# PySpark imports\n",
    "from pyspark.sql import SparkSession, DataFrame\n",
    "from pyspark.sql.functions import *\n",
    "from pyspark.sql.types import *\n",
    "from pyspark.sql.window import Window\n",
    "\n",
    "\n",
    "print(\"Libraries imported successfully!\")\n"
   ]
  },
  {
   "cell_type": "code",
   "execution_count": 2,
   "metadata": {},
   "outputs": [
    {
     "name": "stderr",
     "output_type": "stream",
     "text": [
      "Setting default log level to \"WARN\".\n",
      "To adjust logging level use sc.setLogLevel(newLevel). For SparkR, use setLogLevel(newLevel).\n",
      "25/10/03 02:20:59 WARN NativeCodeLoader: Unable to load native-hadoop library for your platform... using builtin-java classes where applicable\n"
     ]
    },
    {
     "name": "stdout",
     "output_type": "stream",
     "text": [
      "Spark version: 3.5.6\n",
      "Spark UI: http://localhost:4041\n",
      "Spark session created successfully!\n"
     ]
    }
   ],
   "source": [
    "# Initialize Spark Session for local mode\n",
    "spark = SparkSession.builder \\\n",
    "    .appName(\"LeaderBoardAnalysis\") \\\n",
    "    .master(\"local[*]\") \\\n",
    "    .config(\"spark.sql.adaptive.enabled\", \"true\") \\\n",
    "    .config(\"spark.sql.adaptive.coalescePartitions.enabled\", \"true\") \\\n",
    "    .config(\"spark.sql.adaptive.skewJoin.enabled\", \"true\") \\\n",
    "    .config(\"spark.serializer\", \"org.apache.spark.serializer.KryoSerializer\") \\\n",
    "    .getOrCreate()\n",
    "\n",
    "print(f\"Spark version: {spark.version}\")\n",
    "print(f\"Spark UI: http://localhost:4041\")\n",
    "print(\"Spark session created successfully!\")\n"
   ]
  },
  {
   "cell_type": "code",
   "execution_count": 3,
   "metadata": {},
   "outputs": [
    {
     "name": "stdout",
     "output_type": "stream",
     "text": [
      "Helper functions defined successfully!\n"
     ]
    }
   ],
   "source": [
    "# Helper functions\n",
    "def parse_timestamp(timestamp_str: str) -> int:\n",
    "    \"\"\"Parse timestamp string to milliseconds\"\"\"\n",
    "    try:\n",
    "        # Try parsing ISO format\n",
    "        dt = datetime.fromisoformat(timestamp_str.replace('Z', '+00:00'))\n",
    "        return int(dt.timestamp() * 1000)\n",
    "    except:\n",
    "        # Fallback to current time\n",
    "        return int(datetime.now().timestamp() * 1000)\n",
    "\n",
    "def format_timestamp(timestamp: int) -> str:\n",
    "    \"\"\"Format timestamp for display\"\"\"\n",
    "    dt = datetime.fromtimestamp(timestamp / 1000, tz=timezone.utc)\n",
    "    return dt.isoformat()\n",
    "\n",
    "print(\"Helper functions defined successfully!\")\n"
   ]
  },
  {
   "cell_type": "code",
   "execution_count": 4,
   "metadata": {},
   "outputs": [
    {
     "name": "stdout",
     "output_type": "stream",
     "text": [
      "Reading data from: fixed-dataset.parquet\n",
      "Data loaded successfully! Rows: 1000000\n",
      "+--------+-----+------------+-------+------+---+------------------------------------+--------------------------------+---------------+-------------------------------------------------------------------+---------+--------------------------------+--------------------------------+-----+-------------+--------------------------------+----+\n",
      "|uid     |email|authProvider|appId  |avatar|geo|role                                |lastLoginAt                     |name           |devices                                                            |resources|created_at                      |updated_at                      |level|previousLevel|updatedAt                       |team|\n",
      "+--------+-----+------------+-------+------+---+------------------------------------+--------------------------------+---------------+-------------------------------------------------------------------+---------+--------------------------------+--------------------------------+-----+-------------+--------------------------------+----+\n",
      "|user_63 |NULL |NULL        |app_001|11    |DE |45c85904-976c-4c9c-babd-5a67ce972f7c|2025-10-03T00:08:53.430244+00:00|Player 89725921|[{HFJETGMPYUQVKFPUCAATTTYTNYIIBIEX, oyAdSiqKXCRJuPXAdOFuSD, empty}]|[]       |2025-10-03T00:08:53.430244+00:00|2025-10-03T00:08:53.430244+00:00|6    |0            |2025-10-03T00:08:53.430244+00:00|5   |\n",
      "|user_182|NULL |NULL        |app_001|12    |JP |e8603cf0-478c-4718-bb3d-39775807d927|2025-10-03T00:08:53.530244+00:00|Player 60645519|[{HDGRVXOJBRCEAOMUJKLRJCWAFNATBGSJ, fBcHzLVXdCtuNQySsvRcsK, empty}]|[]       |2025-10-03T00:08:53.530244+00:00|2025-10-03T00:08:53.530244+00:00|1    |0            |2025-10-03T00:08:53.530244+00:00|10  |\n",
      "|user_84 |NULL |NULL        |app_001|13    |JP |67970c92-5f4d-466b-9716-e2e4e359ebc8|2025-10-03T00:08:53.630244+00:00|Player 72218051|[{URBQMEUIJXWEXJNIEIRZTDWXJNRRPMVF, UdmFFmbQPEelkjlJGWapwu, empty}]|[]       |2025-10-03T00:08:53.630244+00:00|2025-10-03T00:08:53.630244+00:00|5    |0            |2025-10-03T00:08:53.630244+00:00|2   |\n",
      "|user_146|NULL |NULL        |app_001|17    |VN |54ee765a-df00-47a1-b7f7-4c77eca2ee63|2025-10-03T00:08:53.730244+00:00|Player 35080919|[{SAAVQRCOTYIKQSCHCKYZFFEVVTSNHANX, txfGGFeRuYHeNjFdkiOmJB, empty}]|[]       |2025-10-03T00:08:53.730244+00:00|2025-10-03T00:08:53.730244+00:00|1    |0            |2025-10-03T00:08:53.730244+00:00|4   |\n",
      "|user_161|NULL |NULL        |app_001|19    |DE |754ce0eb-e7e3-4c75-9a30-ac196debc457|2025-10-03T00:08:53.830244+00:00|Player 93592443|[{PAXNKPKFSENPRAWPAUEOPUASSCRTJBMB, ORrHpkJKiTufAsHrzQJXbq, empty}]|[]       |2025-10-03T00:08:53.830244+00:00|2025-10-03T00:08:53.830244+00:00|1    |0            |2025-10-03T00:08:53.830244+00:00|6   |\n",
      "|user_82 |NULL |NULL        |app_001|17    |UK |6bceecf7-f3b4-4e8e-ba42-765e766320dd|2025-10-03T00:08:53.930244+00:00|Player 24043349|[{KTWHUAKMYGCODVCXUWUROBXXFDWZYWIS, qmCZjmZIGZOdNUknuEsCru, empty}]|[]       |2025-10-03T00:08:53.930244+00:00|2025-10-03T00:08:53.930244+00:00|3    |0            |2025-10-03T00:08:53.930244+00:00|9   |\n",
      "|user_15 |NULL |NULL        |app_001|13    |JP |2fd7a1c2-7255-4108-bcf9-5271c5272821|2025-10-03T00:08:54.030244+00:00|Player 86330648|[{CHUWYMTTZYFONOOBCEIASYPTZMHNRPOV, zgifBQEHLoQIQgLwhPlXAH, empty}]|[]       |2025-10-03T00:08:54.030244+00:00|2025-10-03T00:08:54.030244+00:00|6    |0            |2025-10-03T00:08:54.030244+00:00|7   |\n",
      "|user_167|NULL |NULL        |app_001|18    |UK |1d3204ab-5d00-4cfd-83c5-e55caeffb085|2025-10-03T00:08:54.130244+00:00|Player 16174517|[{OWTWNYDZFRZHFCBNJNTJBRNCCEIAQISR, NjOTrSlmqJYBjCOXFPlDqD, empty}]|[]       |2025-10-03T00:08:54.130244+00:00|2025-10-03T00:08:54.130244+00:00|4    |0            |2025-10-03T00:08:54.130244+00:00|5   |\n",
      "|user_118|NULL |NULL        |app_001|20    |DE |ddcfc90a-805a-431c-b8a1-66afeacc598c|2025-10-03T00:08:54.230244+00:00|Player 49024664|[{ZYPLGCTRFBZBJHSQHBYROPSAFEUDBYKP, hcxkuvMLUzfdrkgcluwJAt, empty}]|[]       |2025-10-03T00:08:54.230244+00:00|2025-10-03T00:08:54.230244+00:00|1    |0            |2025-10-03T00:08:54.230244+00:00|5   |\n",
      "|user_37 |NULL |NULL        |app_001|19    |DE |7b654bd6-29bc-463a-86b1-e5849ad0db39|2025-10-03T00:08:54.330244+00:00|Player 76070943|[{TDZQKYXMVPHOMNJJVSQARMDAPKDRIRXJ, SdaVrdGWErwcAIHlbhctYs, empty}]|[]       |2025-10-03T00:08:54.330244+00:00|2025-10-03T00:08:54.330244+00:00|3    |0            |2025-10-03T00:08:54.330244+00:00|7   |\n",
      "+--------+-----+------------+-------+------+---+------------------------------------+--------------------------------+---------------+-------------------------------------------------------------------+---------+--------------------------------+--------------------------------+-----+-------------+--------------------------------+----+\n",
      "only showing top 10 rows\n",
      "\n",
      "root\n",
      " |-- uid: string (nullable = true)\n",
      " |-- email: string (nullable = true)\n",
      " |-- authProvider: string (nullable = true)\n",
      " |-- appId: string (nullable = true)\n",
      " |-- avatar: string (nullable = true)\n",
      " |-- geo: string (nullable = true)\n",
      " |-- role: string (nullable = true)\n",
      " |-- lastLoginAt: string (nullable = true)\n",
      " |-- name: string (nullable = true)\n",
      " |-- devices: array (nullable = true)\n",
      " |    |-- element: struct (containsNull = true)\n",
      " |    |    |-- fb_analytics_instance_id: string (nullable = true)\n",
      " |    |    |-- fb_instance_id: string (nullable = true)\n",
      " |    |    |-- fcmToken: string (nullable = true)\n",
      " |-- resources: array (nullable = true)\n",
      " |    |-- element: string (containsNull = true)\n",
      " |-- created_at: string (nullable = true)\n",
      " |-- updated_at: string (nullable = true)\n",
      " |-- level: long (nullable = true)\n",
      " |-- previousLevel: long (nullable = true)\n",
      " |-- updatedAt: string (nullable = true)\n",
      " |-- team: long (nullable = true)\n",
      "\n"
     ]
    }
   ],
   "source": [
    "# Step 1: Read data from Parquet file\n",
    "input_path = \"fixed-dataset.parquet\"\n",
    "\n",
    "if os.path.exists(input_path):\n",
    "    print(f\"Reading data from: {input_path}\")\n",
    "    user_data = spark.read.parquet(input_path)\n",
    "    print(f\"Data loaded successfully! Rows: {user_data.count()}\")\n",
    "    user_data.show(10, False)\n",
    "    user_data.printSchema()\n",
    "else:\n",
    "    print(f\"File not found: {input_path}\")\n",
    "    print(\"Available files in app-python directory:\")\n",
    "    if os.path.exists(\"app-python\"):\n",
    "        for file in os.listdir(\"app-python\"):\n",
    "            print(f\"  - {file}\")\n"
   ]
  },
  {
   "cell_type": "code",
   "execution_count": 5,
   "metadata": {},
   "outputs": [
    {
     "name": "stdout",
     "output_type": "stream",
     "text": [
      "+------+-----+\n",
      "|uid   |level|\n",
      "+------+-----+\n",
      "|user_1|4    |\n",
      "|user_1|8    |\n",
      "|user_1|11   |\n",
      "|user_1|12   |\n",
      "|user_1|13   |\n",
      "|user_1|17   |\n",
      "|user_1|24   |\n",
      "|user_1|25   |\n",
      "|user_1|26   |\n",
      "|user_1|32   |\n",
      "|user_1|33   |\n",
      "|user_1|43   |\n",
      "|user_1|47   |\n",
      "|user_1|53   |\n",
      "|user_1|56   |\n",
      "|user_1|58   |\n",
      "|user_1|61   |\n",
      "|user_1|67   |\n",
      "|user_1|74   |\n",
      "|user_1|80   |\n",
      "|user_1|89   |\n",
      "|user_1|90   |\n",
      "|user_1|94   |\n",
      "|user_1|102  |\n",
      "|user_1|110  |\n",
      "|user_1|112  |\n",
      "|user_1|122  |\n",
      "|user_1|124  |\n",
      "|user_1|129  |\n",
      "|user_1|130  |\n",
      "|user_1|132  |\n",
      "|user_1|135  |\n",
      "|user_1|136  |\n",
      "|user_1|141  |\n",
      "|user_1|151  |\n",
      "|user_1|152  |\n",
      "|user_1|157  |\n",
      "|user_1|164  |\n",
      "|user_1|165  |\n",
      "|user_1|172  |\n",
      "|user_1|177  |\n",
      "|user_1|179  |\n",
      "|user_1|184  |\n",
      "|user_1|188  |\n",
      "|user_1|195  |\n",
      "|user_1|202  |\n",
      "|user_1|206  |\n",
      "|user_1|207  |\n",
      "|user_1|216  |\n",
      "|user_1|222  |\n",
      "|user_1|224  |\n",
      "|user_1|225  |\n",
      "|user_1|231  |\n",
      "|user_1|235  |\n",
      "|user_1|241  |\n",
      "|user_1|249  |\n",
      "|user_1|252  |\n",
      "|user_1|255  |\n",
      "|user_1|257  |\n",
      "|user_1|267  |\n",
      "|user_1|276  |\n",
      "|user_1|277  |\n",
      "|user_1|279  |\n",
      "|user_1|287  |\n",
      "|user_1|289  |\n",
      "|user_1|291  |\n",
      "|user_1|297  |\n",
      "|user_1|306  |\n",
      "|user_1|312  |\n",
      "|user_1|316  |\n",
      "|user_1|322  |\n",
      "|user_1|326  |\n",
      "|user_1|328  |\n",
      "|user_1|336  |\n",
      "|user_1|344  |\n",
      "|user_1|346  |\n",
      "|user_1|348  |\n",
      "|user_1|353  |\n",
      "|user_1|357  |\n",
      "|user_1|358  |\n",
      "|user_1|366  |\n",
      "|user_1|372  |\n",
      "|user_1|379  |\n",
      "|user_1|381  |\n",
      "|user_1|385  |\n",
      "|user_1|390  |\n",
      "|user_1|394  |\n",
      "|user_1|397  |\n",
      "|user_1|403  |\n",
      "|user_1|405  |\n",
      "|user_1|411  |\n",
      "|user_1|413  |\n",
      "|user_1|418  |\n",
      "|user_1|424  |\n",
      "|user_1|425  |\n",
      "|user_1|430  |\n",
      "|user_1|438  |\n",
      "|user_1|443  |\n",
      "|user_1|452  |\n",
      "|user_1|454  |\n",
      "+------+-----+\n",
      "only showing top 100 rows\n",
      "\n"
     ]
    }
   ],
   "source": [
    "# In ra 100 hàng đầu filter theo userId = 1\n",
    "user_data.filter(col(\"uid\") == \"user_1\").select(\"uid\", \"level\").show(20, truncate=False)"
   ]
  },
  {
   "cell_type": "code",
   "execution_count": 6,
   "metadata": {},
   "outputs": [
    {
     "name": "stdout",
     "output_type": "stream",
     "text": [
      "+--------+-----+--------------+\n",
      "|id      |score|lastUpdateTime|\n",
      "+--------+-----+--------------+\n",
      "|user_63 |6    |1759450133430 |\n",
      "|user_182|1    |1759450133530 |\n",
      "|user_84 |5    |1759450133630 |\n",
      "|user_146|1    |1759450133730 |\n",
      "|user_161|1    |1759450133830 |\n",
      "|user_82 |3    |1759450133930 |\n",
      "|user_15 |6    |1759450134030 |\n",
      "|user_167|4    |1759450134130 |\n",
      "|user_118|1    |1759450134230 |\n",
      "|user_37 |3    |1759450134330 |\n",
      "|user_71 |4    |1759450134430 |\n",
      "|user_154|4    |1759450134530 |\n",
      "|user_164|4    |1759450134630 |\n",
      "|user_71 |4    |1759450134730 |\n",
      "|user_104|9    |1759450134830 |\n",
      "|user_48 |1    |1759450134930 |\n",
      "|user_112|1    |1759450135030 |\n",
      "|user_46 |3    |1759450135130 |\n",
      "|user_126|2    |1759450135230 |\n",
      "|user_49 |4    |1759450135330 |\n",
      "+--------+-----+--------------+\n",
      "only showing top 20 rows\n",
      "\n",
      "None\n"
     ]
    }
   ],
   "source": [
    "user_scores = user_data.select(\n",
    "    col(\"uid\").alias(\"id\"),\n",
    "    when(col(\"level\") - col(\"previousLevel\") > 0, \n",
    "           col(\"level\") - col(\"previousLevel\"))\n",
    "     .otherwise(0).alias(\"score\"),\n",
    "    ((to_timestamp(col(\"updatedAt\")).cast(\"timestamp\").cast(\"double\") * 1000).cast(\"long\").alias(\"lastUpdateTime\"))\n",
    "  \n",
    ")\n",
    "print(user_scores.show(n=20, truncate=False))"
   ]
  },
  {
   "cell_type": "code",
   "execution_count": 7,
   "metadata": {},
   "outputs": [
    {
     "name": "stdout",
     "output_type": "stream",
     "text": [
      "Calculating sliding window scores for 1 minute window...\n",
      "done!\n"
     ]
    }
   ],
   "source": [
    "# Step 3: Calculate total scores in sliding window \n",
    "from pyspark.sql.window import Window\n",
    "from pyspark.sql.functions import sum as spark_sum, lag, col, when\n",
    "\n",
    "window_size_minutes = 1\n",
    "window_size_ms = window_size_minutes * 60 * 1000\n",
    "\n",
    "print(f\"Calculating sliding window scores for {window_size_minutes} minute window...\")\n",
    "\n",
    "# Create window specification for sliding window calculation\n",
    "window_spec = Window.partitionBy(\"id\").orderBy(\"lastUpdateTime\")\n",
    "\n",
    "# Calculate total score in sliding window using rangeBetween\n",
    "total_scores = user_scores.withColumn(\n",
    "    \"totalScore\",\n",
    "    spark_sum(\"score\").over(\n",
    "        window_spec.rangeBetween(-window_size_ms, 0)\n",
    "    )\n",
    ").withColumn(\n",
    "    \"previousTotalScore\",\n",
    "    lag(\"totalScore\", 1, 0.0).over(window_spec)\n",
    ").select(\n",
    "    col(\"id\").alias(\"userId\"),\n",
    "    col(\"totalScore\"),\n",
    "    col(\"previousTotalScore\"),\n",
    "    col(\"lastUpdateTime\")\n",
    ")\n",
    "\n",
    "print(\"done!\")\n"
   ]
  },
  {
   "cell_type": "code",
   "execution_count": 8,
   "metadata": {},
   "outputs": [
    {
     "name": "stdout",
     "output_type": "stream",
     "text": [
      "Total scores calculated for 1 minute window!\n",
      "+------+----------+------------------+--------------+\n",
      "|userId|totalScore|previousTotalScore|lastUpdateTime|\n",
      "+------+----------+------------------+--------------+\n",
      "|user_1|4         |0                 |1759450144031 |\n",
      "|user_1|8         |4                 |1759450153732 |\n",
      "|user_1|11        |8                 |1759450175935 |\n",
      "|user_1|12        |11                |1759450189636 |\n",
      "|user_1|13        |12                |1759450193936 |\n",
      "|user_1|17        |13                |1759450196636 |\n",
      "|user_1|24        |17                |1759450200437 |\n",
      "|user_1|25        |24                |1759450201137 |\n",
      "|user_1|22        |25                |1759450206738 |\n",
      "|user_1|24        |22                |1759450221339 |\n",
      "|user_1|16        |24                |1759450259743 |\n",
      "|user_1|11        |16                |1759450288445 |\n",
      "|user_1|15        |11                |1759450305347 |\n",
      "|user_1|20        |15                |1759450325848 |\n",
      "|user_1|23        |20                |1759450337550 |\n",
      "|user_1|25        |23                |1759450344350 |\n",
      "|user_1|28        |25                |1759450345550 |\n",
      "|user_1|24        |28                |1759450356351 |\n",
      "|user_1|27        |24                |1759450384054 |\n",
      "|user_1|27        |27                |1759450396855 |\n",
      "|user_1|28        |27                |1759450408655 |\n",
      "|user_1|23        |28                |1759450427558 |\n",
      "|user_1|20        |23                |1759450444759 |\n",
      "|user_1|28        |20                |1759450451160 |\n",
      "|user_1|36        |28                |1759450454560 |\n",
      "|user_1|23        |36                |1759450478062 |\n",
      "|user_1|33        |23                |1759450486263 |\n",
      "|user_1|34        |33                |1759450488763 |\n",
      "|user_1|39        |34                |1759450496664 |\n",
      "|user_1|20        |39                |1759450518665 |\n",
      "|user_1|22        |20                |1759450531867 |\n",
      "|user_1|23        |22                |1759450538868 |\n",
      "|user_1|24        |23                |1759450543568 |\n",
      "|user_1|19        |24                |1759450546468 |\n",
      "|user_1|27        |19                |1759450555569 |\n",
      "|user_1|23        |27                |1759450566370 |\n",
      "|user_1|27        |23                |1759450581371 |\n",
      "|user_1|13        |27                |1759450618674 |\n",
      "|user_1|14        |13                |1759450626275 |\n",
      "|user_1|15        |14                |1759450664578 |\n",
      "|user_1|12        |15                |1759450723984 |\n",
      "|user_1|7         |12                |1759450774501 |\n",
      "|user_1|7         |7                 |1759450784302 |\n",
      "|user_1|11        |7                 |1759450800103 |\n",
      "|user_1|18        |11                |1759450808404 |\n",
      "|user_1|25        |18                |1759450815304 |\n",
      "|user_1|11        |25                |1759450868509 |\n",
      "|user_1|5         |11                |1759450898111 |\n",
      "|user_1|10        |5                 |1759450931714 |\n",
      "|user_1|16        |10                |1759450957617 |\n",
      "|user_1|17        |16                |1759450977119 |\n",
      "|user_1|18        |17                |1759450986322 |\n",
      "|user_1|15        |18                |1759451002525 |\n",
      "|user_1|13        |15                |1759451034629 |\n",
      "|user_1|19        |13                |1759451036629 |\n",
      "|user_1|24        |19                |1759451048131 |\n",
      "|user_1|27        |24                |1759451058532 |\n",
      "|user_1|24        |27                |1759451074033 |\n",
      "|user_1|26        |24                |1759451084534 |\n",
      "|user_1|36        |26                |1759451087834 |\n",
      "|user_1|35        |36                |1759451099135 |\n",
      "|user_1|28        |35                |1759451112836 |\n",
      "|user_1|27        |28                |1759451128638 |\n",
      "|user_1|32        |27                |1759451144038 |\n",
      "|user_1|13        |32                |1759451160540 |\n",
      "|user_1|15        |13                |1759451165041 |\n",
      "|user_1|21        |15                |1759451168041 |\n",
      "|user_1|29        |21                |1759451181842 |\n",
      "|user_1|33        |29                |1759451189243 |\n",
      "|user_1|37        |33                |1759451201744 |\n",
      "|user_1|35        |37                |1759451213345 |\n",
      "|user_1|37        |35                |1759451222445 |\n",
      "|user_1|37        |37                |1759451226346 |\n",
      "|user_1|30        |37                |1759451246247 |\n",
      "|user_1|38        |30                |1759451248848 |\n",
      "|user_1|34        |38                |1759451253348 |\n",
      "|user_1|32        |34                |1759451273249 |\n",
      "|user_1|31        |32                |1759451275149 |\n",
      "|user_1|35        |31                |1759451277750 |\n",
      "|user_1|30        |35                |1759451300952 |\n",
      "|user_1|38        |30                |1759451302452 |\n",
      "|user_1|6         |38                |1759451377860 |\n",
      "|user_1|13        |6                 |1759451394161 |\n",
      "|user_1|15        |13                |1759451401361 |\n",
      "|user_1|19        |15                |1759451402261 |\n",
      "|user_1|24        |19                |1759451403861 |\n",
      "|user_1|28        |24                |1759451411862 |\n",
      "|user_1|25        |28                |1759451442565 |\n",
      "|user_1|31        |25                |1759451443565 |\n",
      "|user_1|33        |31                |1759451444265 |\n",
      "|user_1|17        |33                |1759451494469 |\n",
      "|user_1|8         |17                |1759451534972 |\n",
      "|user_1|13        |8                 |1759451545473 |\n",
      "|user_1|19        |13                |1759451546373 |\n",
      "|user_1|14        |19                |1759451592178 |\n",
      "|user_1|6         |14                |1759451613880 |\n",
      "|user_1|13        |6                 |1759451657484 |\n",
      "|user_1|18        |13                |1759451671685 |\n",
      "|user_1|22        |18                |1759451683286 |\n",
      "|user_1|24        |22                |1759451691186 |\n",
      "+------+----------+------------------+--------------+\n",
      "only showing top 100 rows\n",
      "\n",
      "Total records: 1000000\n"
     ]
    }
   ],
   "source": [
    "print(f\"Total scores calculated for {window_size_minutes} minute window!\")\n",
    "total_scores.filter(col(\"userId\") == \"user_1\").show(20, False)\n",
    "print(f\"Total records: {total_scores.count()}\")"
   ]
  },
  {
   "cell_type": "code",
   "execution_count": 9,
   "metadata": {},
   "outputs": [
    {
     "name": "stdout",
     "output_type": "stream",
     "text": [
      "Retractable TopN snapshot functions defined successfully!\n"
     ]
    }
   ],
   "source": [
    "def calculate_leaderboard_at_snapshot(total_scores: DataFrame, snapshot_time: int, \n",
    "                                    top_n: int, cutoff_time: int) -> List[Dict]:\n",
    "\n",
    "    \n",
    "   \n",
    "    \n",
    "    print(f\"  Snapshot at {format_timestamp(snapshot_time)}: using data from {format_timestamp(cutoff_time)} to {format_timestamp(snapshot_time)}\")\n",
    "    \n",
    "\n",
    "    valid_scores = total_scores.filter(\n",
    "        (col('lastUpdateTime') <= snapshot_time) & \n",
    "        (col('lastUpdateTime') > cutoff_time)\n",
    "    ).collect()\n",
    "    \n",
    "    print(f\"    Found {len(valid_scores)} valid scores in cleanup interval\")\n",
    "    \n",
    "    # Group by user và lấy score mới nhất cho mỗi user\n",
    "    user_latest_scores = {}\n",
    "    for score in valid_scores:\n",
    "        user_id = score['userId']\n",
    "        if user_id not in user_latest_scores or score['lastUpdateTime'] > user_latest_scores[user_id]['lastUpdateTime']:\n",
    "            user_latest_scores[user_id] = score\n",
    "    \n",
    "    print(f\"    Found {len(user_latest_scores)} unique users\")\n",
    "    \n",
    "    # Sort by total score và lấy top N (tie-breaker: lastUpdateTime desc, userId asc)\n",
    "    sorted_users = sorted(\n",
    "        user_latest_scores.values(),\n",
    "        key=lambda x: (-float(x['totalScore']), int(x['lastUpdateTime']))\n",
    "    )\n",
    "    \n",
    "    # Tạo leaderboard cho snapshot này\n",
    "    snapshot_entries = []\n",
    "    for i, user_score in enumerate(sorted_users[:top_n]):\n",
    "        snapshot_entries.append({\n",
    "            'userId': user_score['userId'],\n",
    "            'score': user_score['totalScore'],  # Đổi từ totalScore thành score\n",
    "            'lastUpdateTime': user_score['lastUpdateTime']\n",
    "        })\n",
    "    \n",
    "    print(f\"    Generated {len(snapshot_entries)} leaderboard entries (Top-{top_n})\")\n",
    "    return snapshot_entries\n",
    "\n",
    "def generate_snapshots(total_scores: DataFrame, top_n: int, \n",
    "                                            cleanup_interval_minutes: int = 5,\n",
    "                                            snapshot_interval_minutes: int = 7) -> List[Dict]:\n",
    "    \"\"\"Generate snapshots với logic retractable TopN đúng\"\"\"\n",
    "    \n",
    "    # Lấy tất cả timestamps\n",
    "    all_timestamps = [row['lastUpdateTime'] for row in total_scores.select('lastUpdateTime').distinct().collect()]\n",
    "    all_timestamps.sort()\n",
    "    \n",
    "    if not all_timestamps:\n",
    "        return []\n",
    "    \n",
    "    first_timestamp = all_timestamps[0]\n",
    "    last_timestamp = all_timestamps[-1]\n",
    "    \n",
    "    # Convert intervals to milliseconds\n",
    "    snapshot_interval_ms = snapshot_interval_minutes * 60 * 1000\n",
    "    cleanup_interval_ms = cleanup_interval_minutes * 60 * 1000\n",
    "    \n",
    "    print(f\"Data range: {format_timestamp(first_timestamp)} to {format_timestamp(last_timestamp)}\")\n",
    "    print(f\"Cleanup interval: {cleanup_interval_minutes} minutes\")\n",
    "    print(f\"Snapshot interval: {snapshot_interval_minutes} minutes\")\n",
    "    \n",
    "    # Generate snapshot times\n",
    "    snapshot_times = []\n",
    "    current_snapshot_time = first_timestamp + snapshot_interval_ms\n",
    "    \n",
    "    while current_snapshot_time <= last_timestamp:\n",
    "        snapshot_times.append(current_snapshot_time)\n",
    "        current_snapshot_time += snapshot_interval_ms\n",
    "    \n",
    "    # Generate cleanup times để debug\n",
    "    cleanup_times = []\n",
    "    # Cleanup đầu tiên = first_timestamp + cleanup_interval_ms * 2 (như trong Flink code)\n",
    "    first_cleanup_time = first_timestamp + cleanup_interval_ms * 2\n",
    "    current_cleanup_time = first_cleanup_time\n",
    "    \n",
    "    while current_cleanup_time <= last_timestamp:\n",
    "        cleanup_times.append(current_cleanup_time)\n",
    "        current_cleanup_time += cleanup_interval_ms\n",
    "    \n",
    "    print(f\"\\nCleanup times (for reference):\")\n",
    "    for i, ts in enumerate(cleanup_times[:10]):  # Show first 10\n",
    "        print(f\"  Cleanup {i+1}: {format_timestamp(ts)}\")\n",
    "    if len(cleanup_times) > 10:\n",
    "        print(f\"  ... and {len(cleanup_times) - 10} more\")\n",
    "\n",
    "    \n",
    "    # Tính leaderboard tại các snapshot times\n",
    "    all_snapshots = []\n",
    "    # Sử dụng bisect để tìm cleanup_time lớn nhất mà < snapshot_time một cách hiệu quả\n",
    "    import bisect\n",
    "\n",
    "    cleanup_times_sorted = sorted(cleanup_times)\n",
    "    for i, snapshot_time in enumerate(snapshot_times):\n",
    "        # Tìm vị trí chèn snapshot_time vào cleanup_times_sorted\n",
    "        idx = bisect.bisect_left(cleanup_times_sorted, snapshot_time)\n",
    "        cutoff_time = (\n",
    "            cleanup_times_sorted[0] - cleanup_interval_ms if idx == 1\n",
    "            else cleanup_times_sorted[idx-2] if idx > 1\n",
    "            else first_timestamp\n",
    "        )\n",
    "\n",
    "        snapshot_entries = calculate_leaderboard_at_snapshot(\n",
    "            total_scores, snapshot_time, top_n, cutoff_time\n",
    "        )\n",
    "        \n",
    "        # Format giống SnapshotTopNSink: Tuple2<timestamp, List<Score>>\n",
    "        snapshot_data = {\n",
    "            '_id': snapshot_time,\n",
    "            'users': snapshot_entries\n",
    "        }\n",
    "        all_snapshots.append(snapshot_data)\n",
    "    \n",
    "    return all_snapshots\n",
    "\n",
    "print(\"Retractable TopN snapshot functions defined successfully!\")"
   ]
  },
  {
   "cell_type": "code",
   "execution_count": null,
   "metadata": {},
   "outputs": [
    {
     "name": "stdout",
     "output_type": "stream",
     "text": [
      "Generating leaderboard snapshots with:\n",
      "  Top N: 10\n",
      "  TTL: 5 minutes\n",
      "  Snapshot interval: 7 minutes\n"
     ]
    },
    {
     "name": "stderr",
     "output_type": "stream",
     "text": [
      "                                                                                "
     ]
    },
    {
     "name": "stdout",
     "output_type": "stream",
     "text": [
      "Data range: 2025-10-03T00:08:53.430000+00:00 to 2025-10-04T03:55:43.803000+00:00\n",
      "Cleanup interval: 5 minutes\n",
      "Snapshot interval: 7 minutes\n",
      "\n",
      "Cleanup times (for reference):\n",
      "  Cleanup 1: 2025-10-03T00:18:53.430000+00:00\n",
      "  Cleanup 2: 2025-10-03T00:23:53.430000+00:00\n",
      "  Cleanup 3: 2025-10-03T00:28:53.430000+00:00\n",
      "  Cleanup 4: 2025-10-03T00:33:53.430000+00:00\n",
      "  Cleanup 5: 2025-10-03T00:38:53.430000+00:00\n",
      "  Cleanup 6: 2025-10-03T00:43:53.430000+00:00\n",
      "  Cleanup 7: 2025-10-03T00:48:53.430000+00:00\n",
      "  Cleanup 8: 2025-10-03T00:53:53.430000+00:00\n",
      "  Cleanup 9: 2025-10-03T00:58:53.430000+00:00\n",
      "  Cleanup 10: 2025-10-03T01:03:53.430000+00:00\n",
      "  ... and 322 more\n",
      "  Snapshot at 2025-10-03T00:15:53.430000+00:00: using data from 2025-10-03T00:08:53.430000+00:00 to 2025-10-03T00:15:53.430000+00:00\n"
     ]
    },
    {
     "name": "stderr",
     "output_type": "stream",
     "text": [
      "                                                                                "
     ]
    },
    {
     "name": "stdout",
     "output_type": "stream",
     "text": [
      "    Found 4199 valid scores in cleanup interval\n",
      "    Found 201 unique users\n",
      "    Generated 10 leaderboard entries (Top-10)\n",
      "  Snapshot at 2025-10-03T00:22:53.430000+00:00: using data from 2025-10-03T00:13:53.430000+00:00 to 2025-10-03T00:22:53.430000+00:00\n"
     ]
    },
    {
     "name": "stderr",
     "output_type": "stream",
     "text": [
      "                                                                                "
     ]
    },
    {
     "name": "stdout",
     "output_type": "stream",
     "text": [
      "    Found 5400 valid scores in cleanup interval\n",
      "    Found 201 unique users\n",
      "    Generated 10 leaderboard entries (Top-10)\n",
      "  Snapshot at 2025-10-03T00:29:53.430000+00:00: using data from 2025-10-03T00:23:53.430000+00:00 to 2025-10-03T00:29:53.430000+00:00\n"
     ]
    },
    {
     "name": "stderr",
     "output_type": "stream",
     "text": [
      "                                                                                "
     ]
    },
    {
     "name": "stdout",
     "output_type": "stream",
     "text": [
      "    Found 3599 valid scores in cleanup interval\n",
      "    Found 201 unique users\n",
      "    Generated 10 leaderboard entries (Top-10)\n",
      "  Snapshot at 2025-10-03T00:36:53.430000+00:00: using data from 2025-10-03T00:28:53.430000+00:00 to 2025-10-03T00:36:53.430000+00:00\n"
     ]
    },
    {
     "name": "stderr",
     "output_type": "stream",
     "text": [
      "                                                                                "
     ]
    },
    {
     "name": "stdout",
     "output_type": "stream",
     "text": [
      "    Found 4800 valid scores in cleanup interval\n",
      "    Found 201 unique users\n",
      "    Generated 10 leaderboard entries (Top-10)\n",
      "  Snapshot at 2025-10-03T00:43:53.430000+00:00: using data from 2025-10-03T00:33:53.430000+00:00 to 2025-10-03T00:43:53.430000+00:00\n"
     ]
    },
    {
     "name": "stderr",
     "output_type": "stream",
     "text": [
      "                                                                                "
     ]
    },
    {
     "name": "stdout",
     "output_type": "stream",
     "text": [
      "    Found 5999 valid scores in cleanup interval\n",
      "    Found 202 unique users\n",
      "    Generated 10 leaderboard entries (Top-10)\n",
      "  Snapshot at 2025-10-03T00:50:53.430000+00:00: using data from 2025-10-03T00:43:53.430000+00:00 to 2025-10-03T00:50:53.430000+00:00\n"
     ]
    },
    {
     "name": "stderr",
     "output_type": "stream",
     "text": [
      "                                                                                "
     ]
    },
    {
     "name": "stdout",
     "output_type": "stream",
     "text": [
      "    Found 4200 valid scores in cleanup interval\n",
      "    Found 201 unique users\n",
      "    Generated 10 leaderboard entries (Top-10)\n",
      "  Snapshot at 2025-10-03T00:57:53.430000+00:00: using data from 2025-10-03T00:48:53.430000+00:00 to 2025-10-03T00:57:53.430000+00:00\n"
     ]
    },
    {
     "name": "stderr",
     "output_type": "stream",
     "text": [
      "                                                                                "
     ]
    },
    {
     "name": "stdout",
     "output_type": "stream",
     "text": [
      "    Found 5400 valid scores in cleanup interval\n",
      "    Found 201 unique users\n",
      "    Generated 10 leaderboard entries (Top-10)\n",
      "  Snapshot at 2025-10-03T01:04:53.430000+00:00: using data from 2025-10-03T00:58:53.430000+00:00 to 2025-10-03T01:04:53.430000+00:00\n"
     ]
    },
    {
     "name": "stderr",
     "output_type": "stream",
     "text": [
      "                                                                                "
     ]
    },
    {
     "name": "stdout",
     "output_type": "stream",
     "text": [
      "    Found 3599 valid scores in cleanup interval\n",
      "    Found 201 unique users\n",
      "    Generated 10 leaderboard entries (Top-10)\n",
      "  Snapshot at 2025-10-03T01:11:53.430000+00:00: using data from 2025-10-03T01:03:53.430000+00:00 to 2025-10-03T01:11:53.430000+00:00\n"
     ]
    },
    {
     "name": "stderr",
     "output_type": "stream",
     "text": [
      "                                                                                "
     ]
    },
    {
     "name": "stdout",
     "output_type": "stream",
     "text": [
      "    Found 4800 valid scores in cleanup interval\n",
      "    Found 201 unique users\n",
      "    Generated 10 leaderboard entries (Top-10)\n",
      "  Snapshot at 2025-10-03T01:18:53.430000+00:00: using data from 2025-10-03T01:08:53.430000+00:00 to 2025-10-03T01:18:53.430000+00:00\n"
     ]
    },
    {
     "name": "stderr",
     "output_type": "stream",
     "text": [
      "                                                                                "
     ]
    },
    {
     "name": "stdout",
     "output_type": "stream",
     "text": [
      "    Found 5999 valid scores in cleanup interval\n",
      "    Found 202 unique users\n",
      "    Generated 10 leaderboard entries (Top-10)\n",
      "  Snapshot at 2025-10-03T01:25:53.430000+00:00: using data from 2025-10-03T01:18:53.430000+00:00 to 2025-10-03T01:25:53.430000+00:00\n"
     ]
    },
    {
     "name": "stderr",
     "output_type": "stream",
     "text": [
      "                                                                                "
     ]
    },
    {
     "name": "stdout",
     "output_type": "stream",
     "text": [
      "    Found 4200 valid scores in cleanup interval\n",
      "    Found 201 unique users\n",
      "    Generated 10 leaderboard entries (Top-10)\n",
      "  Snapshot at 2025-10-03T01:32:53.430000+00:00: using data from 2025-10-03T01:23:53.430000+00:00 to 2025-10-03T01:32:53.430000+00:00\n"
     ]
    },
    {
     "name": "stderr",
     "output_type": "stream",
     "text": [
      "                                                                                "
     ]
    },
    {
     "name": "stdout",
     "output_type": "stream",
     "text": [
      "    Found 5400 valid scores in cleanup interval\n",
      "    Found 201 unique users\n",
      "    Generated 10 leaderboard entries (Top-10)\n",
      "  Snapshot at 2025-10-03T01:39:53.430000+00:00: using data from 2025-10-03T01:33:53.430000+00:00 to 2025-10-03T01:39:53.430000+00:00\n"
     ]
    },
    {
     "name": "stderr",
     "output_type": "stream",
     "text": [
      "                                                                                "
     ]
    },
    {
     "name": "stdout",
     "output_type": "stream",
     "text": [
      "    Found 3599 valid scores in cleanup interval\n",
      "    Found 201 unique users\n",
      "    Generated 10 leaderboard entries (Top-10)\n",
      "  Snapshot at 2025-10-03T01:46:53.430000+00:00: using data from 2025-10-03T01:38:53.430000+00:00 to 2025-10-03T01:46:53.430000+00:00\n"
     ]
    },
    {
     "name": "stderr",
     "output_type": "stream",
     "text": [
      "                                                                                "
     ]
    },
    {
     "name": "stdout",
     "output_type": "stream",
     "text": [
      "    Found 4800 valid scores in cleanup interval\n",
      "    Found 201 unique users\n",
      "    Generated 10 leaderboard entries (Top-10)\n",
      "  Snapshot at 2025-10-03T01:53:53.430000+00:00: using data from 2025-10-03T01:43:53.430000+00:00 to 2025-10-03T01:53:53.430000+00:00\n"
     ]
    },
    {
     "name": "stderr",
     "output_type": "stream",
     "text": [
      "                                                                                "
     ]
    },
    {
     "name": "stdout",
     "output_type": "stream",
     "text": [
      "    Found 5999 valid scores in cleanup interval\n",
      "    Found 202 unique users\n",
      "    Generated 10 leaderboard entries (Top-10)\n",
      "  Snapshot at 2025-10-03T02:00:53.430000+00:00: using data from 2025-10-03T01:53:53.430000+00:00 to 2025-10-03T02:00:53.430000+00:00\n"
     ]
    },
    {
     "name": "stderr",
     "output_type": "stream",
     "text": [
      "                                                                                "
     ]
    },
    {
     "name": "stdout",
     "output_type": "stream",
     "text": [
      "    Found 4200 valid scores in cleanup interval\n",
      "    Found 201 unique users\n",
      "    Generated 10 leaderboard entries (Top-10)\n",
      "  Snapshot at 2025-10-03T02:07:53.430000+00:00: using data from 2025-10-03T01:58:53.430000+00:00 to 2025-10-03T02:07:53.430000+00:00\n"
     ]
    },
    {
     "name": "stderr",
     "output_type": "stream",
     "text": [
      "                                                                                "
     ]
    },
    {
     "name": "stdout",
     "output_type": "stream",
     "text": [
      "    Found 5399 valid scores in cleanup interval\n",
      "    Found 201 unique users\n",
      "    Generated 10 leaderboard entries (Top-10)\n",
      "  Snapshot at 2025-10-03T02:14:53.430000+00:00: using data from 2025-10-03T02:08:53.430000+00:00 to 2025-10-03T02:14:53.430000+00:00\n"
     ]
    },
    {
     "name": "stderr",
     "output_type": "stream",
     "text": [
      "                                                                                "
     ]
    },
    {
     "name": "stdout",
     "output_type": "stream",
     "text": [
      "    Found 3600 valid scores in cleanup interval\n",
      "    Found 201 unique users\n",
      "    Generated 10 leaderboard entries (Top-10)\n",
      "  Snapshot at 2025-10-03T02:21:53.430000+00:00: using data from 2025-10-03T02:13:53.430000+00:00 to 2025-10-03T02:21:53.430000+00:00\n"
     ]
    },
    {
     "name": "stderr",
     "output_type": "stream",
     "text": [
      "                                                                                "
     ]
    },
    {
     "name": "stdout",
     "output_type": "stream",
     "text": [
      "    Found 4800 valid scores in cleanup interval\n",
      "    Found 201 unique users\n",
      "    Generated 10 leaderboard entries (Top-10)\n",
      "  Snapshot at 2025-10-03T02:28:53.430000+00:00: using data from 2025-10-03T02:18:53.430000+00:00 to 2025-10-03T02:28:53.430000+00:00\n"
     ]
    },
    {
     "name": "stderr",
     "output_type": "stream",
     "text": [
      "                                                                                "
     ]
    },
    {
     "name": "stdout",
     "output_type": "stream",
     "text": [
      "    Found 5999 valid scores in cleanup interval\n",
      "    Found 202 unique users\n",
      "    Generated 10 leaderboard entries (Top-10)\n",
      "  Snapshot at 2025-10-03T02:35:53.430000+00:00: using data from 2025-10-03T02:28:53.430000+00:00 to 2025-10-03T02:35:53.430000+00:00\n"
     ]
    },
    {
     "name": "stderr",
     "output_type": "stream",
     "text": [
      "                                                                                "
     ]
    },
    {
     "name": "stdout",
     "output_type": "stream",
     "text": [
      "    Found 4200 valid scores in cleanup interval\n",
      "    Found 201 unique users\n",
      "    Generated 10 leaderboard entries (Top-10)\n",
      "  Snapshot at 2025-10-03T02:42:53.430000+00:00: using data from 2025-10-03T02:33:53.430000+00:00 to 2025-10-03T02:42:53.430000+00:00\n"
     ]
    },
    {
     "name": "stderr",
     "output_type": "stream",
     "text": [
      "                                                                                "
     ]
    },
    {
     "name": "stdout",
     "output_type": "stream",
     "text": [
      "    Found 5400 valid scores in cleanup interval\n",
      "    Found 201 unique users\n",
      "    Generated 10 leaderboard entries (Top-10)\n",
      "  Snapshot at 2025-10-03T02:49:53.430000+00:00: using data from 2025-10-03T02:43:53.430000+00:00 to 2025-10-03T02:49:53.430000+00:00\n"
     ]
    },
    {
     "name": "stderr",
     "output_type": "stream",
     "text": [
      "                                                                                "
     ]
    },
    {
     "name": "stdout",
     "output_type": "stream",
     "text": [
      "    Found 3600 valid scores in cleanup interval\n",
      "    Found 201 unique users\n",
      "    Generated 10 leaderboard entries (Top-10)\n",
      "  Snapshot at 2025-10-03T02:56:53.430000+00:00: using data from 2025-10-03T02:48:53.430000+00:00 to 2025-10-03T02:56:53.430000+00:00\n"
     ]
    },
    {
     "name": "stderr",
     "output_type": "stream",
     "text": [
      "                                                                                "
     ]
    },
    {
     "name": "stdout",
     "output_type": "stream",
     "text": [
      "    Found 4799 valid scores in cleanup interval\n",
      "    Found 201 unique users\n",
      "    Generated 10 leaderboard entries (Top-10)\n",
      "  Snapshot at 2025-10-03T03:03:53.430000+00:00: using data from 2025-10-03T02:53:53.430000+00:00 to 2025-10-03T03:03:53.430000+00:00\n"
     ]
    },
    {
     "name": "stderr",
     "output_type": "stream",
     "text": [
      "                                                                                "
     ]
    },
    {
     "name": "stdout",
     "output_type": "stream",
     "text": [
      "    Found 5999 valid scores in cleanup interval\n",
      "    Found 202 unique users\n",
      "    Generated 10 leaderboard entries (Top-10)\n",
      "  Snapshot at 2025-10-03T03:10:53.430000+00:00: using data from 2025-10-03T03:03:53.430000+00:00 to 2025-10-03T03:10:53.430000+00:00\n"
     ]
    },
    {
     "name": "stderr",
     "output_type": "stream",
     "text": [
      "                                                                                "
     ]
    },
    {
     "name": "stdout",
     "output_type": "stream",
     "text": [
      "    Found 4200 valid scores in cleanup interval\n",
      "    Found 201 unique users\n",
      "    Generated 10 leaderboard entries (Top-10)\n",
      "  Snapshot at 2025-10-03T03:17:53.430000+00:00: using data from 2025-10-03T03:08:53.430000+00:00 to 2025-10-03T03:17:53.430000+00:00\n"
     ]
    },
    {
     "name": "stderr",
     "output_type": "stream",
     "text": [
      "                                                                                "
     ]
    },
    {
     "name": "stdout",
     "output_type": "stream",
     "text": [
      "    Found 5399 valid scores in cleanup interval\n",
      "    Found 201 unique users\n",
      "    Generated 10 leaderboard entries (Top-10)\n",
      "  Snapshot at 2025-10-03T03:24:53.430000+00:00: using data from 2025-10-03T03:18:53.430000+00:00 to 2025-10-03T03:24:53.430000+00:00\n"
     ]
    },
    {
     "name": "stderr",
     "output_type": "stream",
     "text": [
      "                                                                                "
     ]
    },
    {
     "name": "stdout",
     "output_type": "stream",
     "text": [
      "    Found 3600 valid scores in cleanup interval\n",
      "    Found 201 unique users\n",
      "    Generated 10 leaderboard entries (Top-10)\n",
      "  Snapshot at 2025-10-03T03:31:53.430000+00:00: using data from 2025-10-03T03:23:53.430000+00:00 to 2025-10-03T03:31:53.430000+00:00\n"
     ]
    },
    {
     "name": "stderr",
     "output_type": "stream",
     "text": [
      "                                                                                "
     ]
    },
    {
     "name": "stdout",
     "output_type": "stream",
     "text": [
      "    Found 4800 valid scores in cleanup interval\n",
      "    Found 201 unique users\n",
      "    Generated 10 leaderboard entries (Top-10)\n",
      "  Snapshot at 2025-10-03T03:38:53.430000+00:00: using data from 2025-10-03T03:28:53.430000+00:00 to 2025-10-03T03:38:53.430000+00:00\n"
     ]
    },
    {
     "name": "stderr",
     "output_type": "stream",
     "text": [
      "                                                                                "
     ]
    },
    {
     "name": "stdout",
     "output_type": "stream",
     "text": [
      "    Found 5999 valid scores in cleanup interval\n",
      "    Found 202 unique users\n",
      "    Generated 10 leaderboard entries (Top-10)\n",
      "  Snapshot at 2025-10-03T03:45:53.430000+00:00: using data from 2025-10-03T03:38:53.430000+00:00 to 2025-10-03T03:45:53.430000+00:00\n"
     ]
    },
    {
     "name": "stderr",
     "output_type": "stream",
     "text": [
      "                                                                                "
     ]
    },
    {
     "name": "stdout",
     "output_type": "stream",
     "text": [
      "    Found 4200 valid scores in cleanup interval\n",
      "    Found 201 unique users\n",
      "    Generated 10 leaderboard entries (Top-10)\n",
      "  Snapshot at 2025-10-03T03:52:53.430000+00:00: using data from 2025-10-03T03:43:53.430000+00:00 to 2025-10-03T03:52:53.430000+00:00\n"
     ]
    },
    {
     "name": "stderr",
     "output_type": "stream",
     "text": [
      "                                                                                "
     ]
    },
    {
     "name": "stdout",
     "output_type": "stream",
     "text": [
      "    Found 5399 valid scores in cleanup interval\n",
      "    Found 201 unique users\n",
      "    Generated 10 leaderboard entries (Top-10)\n",
      "  Snapshot at 2025-10-03T03:59:53.430000+00:00: using data from 2025-10-03T03:53:53.430000+00:00 to 2025-10-03T03:59:53.430000+00:00\n"
     ]
    },
    {
     "name": "stderr",
     "output_type": "stream",
     "text": [
      "                                                                                "
     ]
    },
    {
     "name": "stdout",
     "output_type": "stream",
     "text": [
      "    Found 3600 valid scores in cleanup interval\n",
      "    Found 201 unique users\n",
      "    Generated 10 leaderboard entries (Top-10)\n",
      "  Snapshot at 2025-10-03T04:06:53.430000+00:00: using data from 2025-10-03T03:58:53.430000+00:00 to 2025-10-03T04:06:53.430000+00:00\n"
     ]
    },
    {
     "name": "stderr",
     "output_type": "stream",
     "text": [
      "                                                                                "
     ]
    },
    {
     "name": "stdout",
     "output_type": "stream",
     "text": [
      "    Found 4799 valid scores in cleanup interval\n",
      "    Found 201 unique users\n",
      "    Generated 10 leaderboard entries (Top-10)\n",
      "  Snapshot at 2025-10-03T04:13:53.430000+00:00: using data from 2025-10-03T04:03:53.430000+00:00 to 2025-10-03T04:13:53.430000+00:00\n"
     ]
    },
    {
     "name": "stderr",
     "output_type": "stream",
     "text": [
      "                                                                                "
     ]
    },
    {
     "name": "stdout",
     "output_type": "stream",
     "text": [
      "    Found 6000 valid scores in cleanup interval\n",
      "    Found 202 unique users\n",
      "    Generated 10 leaderboard entries (Top-10)\n",
      "  Snapshot at 2025-10-03T04:20:53.430000+00:00: using data from 2025-10-03T04:13:53.430000+00:00 to 2025-10-03T04:20:53.430000+00:00\n"
     ]
    },
    {
     "name": "stderr",
     "output_type": "stream",
     "text": [
      "                                                                                "
     ]
    },
    {
     "name": "stdout",
     "output_type": "stream",
     "text": [
      "    Found 4199 valid scores in cleanup interval\n",
      "    Found 201 unique users\n",
      "    Generated 10 leaderboard entries (Top-10)\n",
      "  Snapshot at 2025-10-03T04:27:53.430000+00:00: using data from 2025-10-03T04:18:53.430000+00:00 to 2025-10-03T04:27:53.430000+00:00\n"
     ]
    },
    {
     "name": "stderr",
     "output_type": "stream",
     "text": [
      "                                                                                "
     ]
    },
    {
     "name": "stdout",
     "output_type": "stream",
     "text": [
      "    Found 5400 valid scores in cleanup interval\n",
      "    Found 201 unique users\n",
      "    Generated 10 leaderboard entries (Top-10)\n",
      "  Snapshot at 2025-10-03T04:34:53.430000+00:00: using data from 2025-10-03T04:28:53.430000+00:00 to 2025-10-03T04:34:53.430000+00:00\n"
     ]
    },
    {
     "name": "stderr",
     "output_type": "stream",
     "text": [
      "                                                                                "
     ]
    },
    {
     "name": "stdout",
     "output_type": "stream",
     "text": [
      "    Found 3600 valid scores in cleanup interval\n",
      "    Found 201 unique users\n",
      "    Generated 10 leaderboard entries (Top-10)\n",
      "  Snapshot at 2025-10-03T04:41:53.430000+00:00: using data from 2025-10-03T04:33:53.430000+00:00 to 2025-10-03T04:41:53.430000+00:00\n"
     ]
    },
    {
     "name": "stderr",
     "output_type": "stream",
     "text": [
      "                                                                                "
     ]
    },
    {
     "name": "stdout",
     "output_type": "stream",
     "text": [
      "    Found 4799 valid scores in cleanup interval\n",
      "    Found 201 unique users\n",
      "    Generated 10 leaderboard entries (Top-10)\n",
      "  Snapshot at 2025-10-03T04:48:53.430000+00:00: using data from 2025-10-03T04:38:53.430000+00:00 to 2025-10-03T04:48:53.430000+00:00\n"
     ]
    },
    {
     "name": "stderr",
     "output_type": "stream",
     "text": [
      "                                                                                "
     ]
    },
    {
     "name": "stdout",
     "output_type": "stream",
     "text": [
      "    Found 6000 valid scores in cleanup interval\n",
      "    Found 202 unique users\n",
      "    Generated 10 leaderboard entries (Top-10)\n",
      "  Snapshot at 2025-10-03T04:55:53.430000+00:00: using data from 2025-10-03T04:48:53.430000+00:00 to 2025-10-03T04:55:53.430000+00:00\n"
     ]
    },
    {
     "name": "stderr",
     "output_type": "stream",
     "text": [
      "                                                                                "
     ]
    },
    {
     "name": "stdout",
     "output_type": "stream",
     "text": [
      "    Found 4199 valid scores in cleanup interval\n",
      "    Found 201 unique users\n",
      "    Generated 10 leaderboard entries (Top-10)\n",
      "  Snapshot at 2025-10-03T05:02:53.430000+00:00: using data from 2025-10-03T04:53:53.430000+00:00 to 2025-10-03T05:02:53.430000+00:00\n"
     ]
    },
    {
     "name": "stderr",
     "output_type": "stream",
     "text": [
      "                                                                                "
     ]
    },
    {
     "name": "stdout",
     "output_type": "stream",
     "text": [
      "    Found 5398 valid scores in cleanup interval\n",
      "    Found 201 unique users\n",
      "    Generated 10 leaderboard entries (Top-10)\n",
      "  Snapshot at 2025-10-03T05:09:53.430000+00:00: using data from 2025-10-03T05:03:53.430000+00:00 to 2025-10-03T05:09:53.430000+00:00\n"
     ]
    },
    {
     "name": "stderr",
     "output_type": "stream",
     "text": [
      "                                                                                "
     ]
    },
    {
     "name": "stdout",
     "output_type": "stream",
     "text": [
      "    Found 3600 valid scores in cleanup interval\n",
      "    Found 201 unique users\n",
      "    Generated 10 leaderboard entries (Top-10)\n",
      "  Snapshot at 2025-10-03T05:16:53.430000+00:00: using data from 2025-10-03T05:08:53.430000+00:00 to 2025-10-03T05:16:53.430000+00:00\n"
     ]
    },
    {
     "name": "stderr",
     "output_type": "stream",
     "text": [
      "                                                                                "
     ]
    },
    {
     "name": "stdout",
     "output_type": "stream",
     "text": [
      "    Found 4800 valid scores in cleanup interval\n",
      "    Found 201 unique users\n",
      "    Generated 10 leaderboard entries (Top-10)\n",
      "  Snapshot at 2025-10-03T05:23:53.430000+00:00: using data from 2025-10-03T05:13:53.430000+00:00 to 2025-10-03T05:23:53.430000+00:00\n"
     ]
    },
    {
     "name": "stderr",
     "output_type": "stream",
     "text": [
      "                                                                                "
     ]
    },
    {
     "name": "stdout",
     "output_type": "stream",
     "text": [
      "    Found 5999 valid scores in cleanup interval\n",
      "    Found 202 unique users\n",
      "    Generated 10 leaderboard entries (Top-10)\n",
      "  Snapshot at 2025-10-03T05:30:53.430000+00:00: using data from 2025-10-03T05:23:53.430000+00:00 to 2025-10-03T05:30:53.430000+00:00\n"
     ]
    },
    {
     "name": "stderr",
     "output_type": "stream",
     "text": [
      "                                                                                "
     ]
    },
    {
     "name": "stdout",
     "output_type": "stream",
     "text": [
      "    Found 4200 valid scores in cleanup interval\n",
      "    Found 201 unique users\n",
      "    Generated 10 leaderboard entries (Top-10)\n",
      "  Snapshot at 2025-10-03T05:37:53.430000+00:00: using data from 2025-10-03T05:28:53.430000+00:00 to 2025-10-03T05:37:53.430000+00:00\n"
     ]
    },
    {
     "name": "stderr",
     "output_type": "stream",
     "text": [
      "                                                                                "
     ]
    },
    {
     "name": "stdout",
     "output_type": "stream",
     "text": [
      "    Found 5399 valid scores in cleanup interval\n",
      "    Found 201 unique users\n",
      "    Generated 10 leaderboard entries (Top-10)\n",
      "  Snapshot at 2025-10-03T05:44:53.430000+00:00: using data from 2025-10-03T05:38:53.430000+00:00 to 2025-10-03T05:44:53.430000+00:00\n"
     ]
    },
    {
     "name": "stderr",
     "output_type": "stream",
     "text": [
      "                                                                                "
     ]
    },
    {
     "name": "stdout",
     "output_type": "stream",
     "text": [
      "    Found 3600 valid scores in cleanup interval\n",
      "    Found 201 unique users\n",
      "    Generated 10 leaderboard entries (Top-10)\n",
      "  Snapshot at 2025-10-03T05:51:53.430000+00:00: using data from 2025-10-03T05:43:53.430000+00:00 to 2025-10-03T05:51:53.430000+00:00\n"
     ]
    },
    {
     "name": "stderr",
     "output_type": "stream",
     "text": [
      "                                                                                "
     ]
    },
    {
     "name": "stdout",
     "output_type": "stream",
     "text": [
      "    Found 4800 valid scores in cleanup interval\n",
      "    Found 201 unique users\n",
      "    Generated 10 leaderboard entries (Top-10)\n",
      "  Snapshot at 2025-10-03T05:58:53.430000+00:00: using data from 2025-10-03T05:48:53.430000+00:00 to 2025-10-03T05:58:53.430000+00:00\n"
     ]
    },
    {
     "name": "stderr",
     "output_type": "stream",
     "text": [
      "                                                                                "
     ]
    },
    {
     "name": "stdout",
     "output_type": "stream",
     "text": [
      "    Found 5999 valid scores in cleanup interval\n",
      "    Found 202 unique users\n",
      "    Generated 10 leaderboard entries (Top-10)\n",
      "  Snapshot at 2025-10-03T06:05:53.430000+00:00: using data from 2025-10-03T05:58:53.430000+00:00 to 2025-10-03T06:05:53.430000+00:00\n"
     ]
    },
    {
     "name": "stderr",
     "output_type": "stream",
     "text": [
      "                                                                                "
     ]
    },
    {
     "name": "stdout",
     "output_type": "stream",
     "text": [
      "    Found 4200 valid scores in cleanup interval\n",
      "    Found 201 unique users\n",
      "    Generated 10 leaderboard entries (Top-10)\n",
      "  Snapshot at 2025-10-03T06:12:53.430000+00:00: using data from 2025-10-03T06:03:53.430000+00:00 to 2025-10-03T06:12:53.430000+00:00\n"
     ]
    },
    {
     "name": "stderr",
     "output_type": "stream",
     "text": [
      "                                                                                "
     ]
    },
    {
     "name": "stdout",
     "output_type": "stream",
     "text": [
      "    Found 5400 valid scores in cleanup interval\n",
      "    Found 201 unique users\n",
      "    Generated 10 leaderboard entries (Top-10)\n",
      "  Snapshot at 2025-10-03T06:19:53.430000+00:00: using data from 2025-10-03T06:13:53.430000+00:00 to 2025-10-03T06:19:53.430000+00:00\n"
     ]
    },
    {
     "name": "stderr",
     "output_type": "stream",
     "text": [
      "                                                                                "
     ]
    },
    {
     "name": "stdout",
     "output_type": "stream",
     "text": [
      "    Found 3600 valid scores in cleanup interval\n",
      "    Found 201 unique users\n",
      "    Generated 10 leaderboard entries (Top-10)\n",
      "  Snapshot at 2025-10-03T06:26:53.430000+00:00: using data from 2025-10-03T06:18:53.430000+00:00 to 2025-10-03T06:26:53.430000+00:00\n"
     ]
    }
   ],
   "source": [
    "# Step 5: Generate leaderboard snapshots\n",
    "top_n = 10\n",
    "cleanup_interval_minutes = 5\n",
    "snapshot_interval_minutes = 7\n",
    "\n",
    "print(f\"Generating leaderboard snapshots with:\")\n",
    "print(f\"  Top N: {top_n}\")\n",
    "print(f\"  TTL: {cleanup_interval_minutes} minutes\")\n",
    "print(f\"  Snapshot interval: {snapshot_interval_minutes} minutes\")\n",
    "\n",
    "snapshots = generate_snapshots(\n",
    "    total_scores, \n",
    "    top_n, \n",
    "    cleanup_interval_minutes,\n",
    "    snapshot_interval_minutes\n",
    ")\n",
    "\n",
    "print(f\"\\nGenerated {len(snapshots)} leaderboard entries across snapshots.\")\n"
   ]
  },
  {
   "cell_type": "code",
   "execution_count": null,
   "metadata": {},
   "outputs": [],
   "source": [
    "snapshots[0]"
   ]
  },
  {
   "cell_type": "code",
   "execution_count": null,
   "metadata": {},
   "outputs": [],
   "source": [
    "# Step 6: Save results to file\n",
    "import os\n",
    "output_path = \"leaderboard_snapshots/raw_snapshots.json\"\n",
    "\n",
    "\n",
    "if snapshots:\n",
    "    # Create output directory if it doesn't exist\n",
    "    os.makedirs(os.path.dirname(output_path), exist_ok=True)\n",
    "    \n",
    "    # Convert snapshots to DataFrame for saving\n",
    "    snapshot_data = []\n",
    "    for snapshot in snapshots:\n",
    "        snapshot_time = snapshot['_id']\n",
    "        users = snapshot['users']\n",
    "        \n",
    "        for user in users:\n",
    "            snapshot_data.append({\n",
    "                'userId': user['userId'],\n",
    "                'score': user['score'],  # Đổi từ totalScore thành score\n",
    "                'lastUpdateTime': user['lastUpdateTime'],\n",
    "                'snapshotTime': snapshot_time,\n",
    "                'snapshotTimeFormatted': format_timestamp(snapshot_time),\n",
    "                'lastUpdateTimeFormatted': format_timestamp(user['lastUpdateTime'])\n",
    "            })\n",
    "    \n",
    "    snapshot_df = spark.createDataFrame(snapshot_data)\n",
    "    \n",
    "\n",
    "    \n",
    "    # Save raw snapshots in MongoDB format\n",
    "    import json\n",
    "    raw_snapshots_path = \"leaderboard_snapshots/raw_snapshots.json\"\n",
    "    with open(raw_snapshots_path, 'w') as f:\n",
    "        json.dump(snapshots, f, indent=2)\n",
    "    print(f\"Raw snapshots (MongoDB format) saved to: {raw_snapshots_path}\")\n",
    "    \n",
    "else:\n",
    "    print(\"No snapshots to save!\")"
   ]
  },
  {
   "cell_type": "code",
   "execution_count": null,
   "metadata": {},
   "outputs": [],
   "source": [
    "# Clean up\n",
    "print(\"Stopping Spark session...\")\n",
    "spark.stop()\n",
    "print(\"Spark session stopped successfully!\")\n"
   ]
  }
 ],
 "metadata": {
  "kernelspec": {
   "display_name": "Python 3 (ipykernel)",
   "language": "python",
   "name": "python3"
  },
  "language_info": {
   "codemirror_mode": {
    "name": "ipython",
    "version": 3
   },
   "file_extension": ".py",
   "mimetype": "text/x-python",
   "name": "python",
   "nbconvert_exporter": "python",
   "pygments_lexer": "ipython3",
   "version": "3.9.2"
  }
 },
 "nbformat": 4,
 "nbformat_minor": 4
}
